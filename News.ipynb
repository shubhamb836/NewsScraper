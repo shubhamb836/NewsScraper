{
 "cells": [
  {
   "cell_type": "code",
   "execution_count": 8,
   "id": "3f7bc8dc-86cc-4d3e-9cdb-7ff5b0d8335e",
   "metadata": {},
   "outputs": [
    {
     "name": "stdin",
     "output_type": "stream",
     "text": [
      "Enter topic to search news for:  football\n"
     ]
    },
    {
     "name": "stdout",
     "output_type": "stream",
     "text": [
      "\n",
      "Processing article 1: Watch: The Women's Football Show\n",
      "Saved: news_full_football\\article_1.txt\n",
      "\n",
      "Processing article 2: Monday Night Club\n",
      "Saved: news_full_football\\article_2.txt\n",
      "\n",
      "Processing article 3: Fubo isn’t giving up on its Venu-like sports bundle\n",
      "Saved: news_full_football\\article_3.txt\n",
      "\n",
      "Processing article 4: Palmer's brilliance could be key moment in Chelsea's Champions League quest\n",
      "Saved: news_full_football\\article_4.txt\n",
      "\n",
      "Processing article 5: 'It's a huge error' - controversy as Villa miss out on Champions League\n",
      "Saved: news_full_football\\article_5.txt\n",
      "\n",
      "Done! 5 articles saved, 0 failed.\n"
     ]
    }
   ],
   "source": [
    "import requests\n",
    "import os\n",
    "from newspaper import Article\n",
    "\n",
    "API_KEY = 'YOUR API KEY'  # <-- Replace with your key here\n",
    "\n",
    "class CustomArticle(Article):\n",
    "    def download(self):\n",
    "        self.config.browser_user_agent = (\n",
    "            \"Mozilla/5.0 (Windows NT 10.0; Win64; x64) AppleWebKit/537.36 \"\n",
    "            \"(KHTML, like Gecko) Chrome/90.0.4430.93 Safari/537.36\"\n",
    "        )\n",
    "        return super().download()\n",
    "\n",
    "def save_article(index, title, content, url, folder):\n",
    "    filename = os.path.join(folder, f\"article_{index}.txt\")\n",
    "    with open(filename, 'w', encoding='utf-8') as f:\n",
    "        f.write(f\"Title: {title}\\n\\n\")\n",
    "        f.write(f\"URL: {url}\\n\\n\")\n",
    "        f.write(f\"Full Article:\\n{content}\\n\")\n",
    "    print(f\"Saved: {filename}\")\n",
    "\n",
    "def fetch_news(topic, max_articles=5):#<------Your limit here\n",
    "    url = (\n",
    "        'https://newsapi.org/v2/everything?'\n",
    "        f'q={topic}&'\n",
    "        'language=en&'\n",
    "        'sortBy=relevance&'\n",
    "        f'apiKey={API_KEY}'\n",
    "    )\n",
    "    response = requests.get(url)\n",
    "    data = response.json()\n",
    "    if data.get('status') != 'ok':\n",
    "        print(\"NewsAPI error:\", data.get('message'))\n",
    "        return []\n",
    "    return data.get('articles', [])[:max_articles]\n",
    "\n",
    "def main():\n",
    "    topic = input(\"Enter topic to search news for: \").strip()\n",
    "    articles = fetch_news(topic)\n",
    "\n",
    "    if not articles:\n",
    "        print(\"No articles found or error fetching news.\")\n",
    "        return\n",
    "\n",
    "    folder = f\"news_full_{topic.replace(' ', '_')}\"\n",
    "    os.makedirs(folder, exist_ok=True)\n",
    "\n",
    "    success_count = 0\n",
    "    fail_count = 0\n",
    "\n",
    "    for i, art in enumerate(articles, start=1):\n",
    "        title = art.get('title', 'No title')\n",
    "        url = art.get('url')\n",
    "        if not url:\n",
    "            print(f\"Skipping article {i}: No URL found\")\n",
    "            fail_count += 1\n",
    "            continue\n",
    "\n",
    "        print(f\"\\nProcessing article {i}: {title}\")\n",
    "        try:\n",
    "            article = CustomArticle(url)\n",
    "            article.download()\n",
    "            article.parse()\n",
    "            content = article.text if article.text else \"Full text not available.\"\n",
    "            save_article(i, title, content, url, folder)\n",
    "            success_count += 1\n",
    "        except Exception as e:\n",
    "            print(f\"Failed to extract article {i}: {e}\")\n",
    "            fail_count += 1\n",
    "\n",
    "    print(f\"\\nDone! {success_count} articles saved, {fail_count} failed.\")\n",
    "\n",
    "if __name__ == \"__main__\":\n",
    "    main()\n"
   ]
  },
  {
   "cell_type": "code",
   "execution_count": null,
   "id": "e0ebe90c-c3d5-43f8-86a7-5717bfce6b66",
   "metadata": {},
   "outputs": [],
   "source": []
  }
 ],
 "metadata": {
  "kernelspec": {
   "display_name": "Python 3 (ipykernel)",
   "language": "python",
   "name": "python3"
  },
  "language_info": {
   "codemirror_mode": {
    "name": "ipython",
    "version": 3
   },
   "file_extension": ".py",
   "mimetype": "text/x-python",
   "name": "python",
   "nbconvert_exporter": "python",
   "pygments_lexer": "ipython3",
   "version": "3.12.7"
  }
 },
 "nbformat": 4,
 "nbformat_minor": 5
}
